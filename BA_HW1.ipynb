{
  "nbformat": 4,
  "nbformat_minor": 0,
  "metadata": {
    "colab": {
      "name": "BA-HW1",
      "provenance": [],
      "authorship_tag": "ABX9TyMYKvFJMGw3U1KXD1Z6gQrp",
      "include_colab_link": true
    },
    "kernelspec": {
      "name": "python3",
      "display_name": "Python 3"
    }
  },
  "cells": [
    {
      "cell_type": "markdown",
      "metadata": {
        "id": "view-in-github",
        "colab_type": "text"
      },
      "source": [
        "<a href=\"https://colab.research.google.com/github/lingbofang66/BA_Project/blob/master/BA_HW1.ipynb\" target=\"_parent\"><img src=\"https://colab.research.google.com/assets/colab-badge.svg\" alt=\"Open In Colab\"/></a>"
      ]
    },
    {
      "cell_type": "code",
      "metadata": {
        "id": "tLkKYafVgIS0",
        "colab_type": "code",
        "colab": {
          "base_uri": "https://localhost:8080/",
          "height": 102
        },
        "outputId": "af2fd107-8e7c-4cc1-842d-309d7bcd8546"
      },
      "source": [
        "def grade():\n",
        "  grade_list = [50, 90, 91, 88, 75]\n",
        "  for i in range(len(grade_list)):\n",
        "    if 90 <= grade_list[i] <= 100:\n",
        "      print(\"A\") \n",
        "    elif 80 <= grade_list[i] <= 89:\n",
        "      print(\"B\")\n",
        "    elif 70 <= grade_list[i] <= 79:\n",
        "      print(\"C\")\n",
        "    elif 65 <= grade_list[i] <= 69:\n",
        "      print(\"D\")\n",
        "    else:\n",
        "      print(\"Failing\")\n",
        "grade()\n",
        "## \"if\" should corresponding to \"else\""
      ],
      "execution_count": 3,
      "outputs": [
        {
          "output_type": "stream",
          "text": [
            "Failing\n",
            "A\n",
            "A\n",
            "B\n",
            "C\n"
          ],
          "name": "stdout"
        }
      ]
    },
    {
      "cell_type": "code",
      "metadata": {
        "id": "O4p6eqk5gRKR",
        "colab_type": "code",
        "colab": {}
      },
      "source": [
        ""
      ],
      "execution_count": null,
      "outputs": []
    }
  ]
}