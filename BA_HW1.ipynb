{
  "nbformat": 4,
  "nbformat_minor": 0,
  "metadata": {
    "colab": {
      "name": "BA-HW1",
      "provenance": [],
      "collapsed_sections": [],
      "include_colab_link": true
    },
    "kernelspec": {
      "name": "python3",
      "display_name": "Python 3"
    }
  },
  "cells": [
    {
      "cell_type": "markdown",
      "metadata": {
        "id": "view-in-github",
        "colab_type": "text"
      },
      "source": [
        "<a href=\"https://colab.research.google.com/github/lingbofang66/BA_Project/blob/master/BA_HW1.ipynb\" target=\"_parent\"><img src=\"https://colab.research.google.com/assets/colab-badge.svg\" alt=\"Open In Colab\"/></a>"
      ]
    },
    {
      "cell_type": "code",
      "metadata": {
        "id": "DO74sayU0SX0",
        "colab_type": "code",
        "colab": {
          "base_uri": "https://localhost:8080/",
          "height": 102
        },
        "outputId": "865d329c-6ab4-41ab-91fb-75902f9b3e9f"
      },
      "source": [
        "def grade():\n",
        "  grade_list = [50, 90, 91, 88, 75]\n",
        "  for i in range(len(grade_list)):\n",
        "    if 90 <= grade_list[i] <= 100:\n",
        "      print(\"A\") \n",
        "    if 80 <= grade_list[i] <= 89:\n",
        "      print(\"B\")\n",
        "    if 70 <= grade_list[i] <= 79:\n",
        "      print(\"C\")\n",
        "    if 65 <= grade_list[i] <= 69:\n",
        "      print(\"D\")\n",
        "    if grade_list[i] < 65:\n",
        "      print(\"Failing\")\n",
        "grade()"
      ],
      "execution_count": null,
      "outputs": [
        {
          "output_type": "stream",
          "text": [
            "Failing\n",
            "A\n",
            "A\n",
            "B\n",
            "C\n"
          ],
          "name": "stdout"
        }
      ]
    },
    {
      "cell_type": "markdown",
      "metadata": {
        "id": "gc88kZHb6EbZ",
        "colab_type": "text"
      },
      "source": [
        "#The grade breakdown is as follows:\n",
        "\n",
        "- A: 90-100\n",
        "- B: 80-89\n",
        "- C: 70 - 79\n",
        "- D: 65 - 69\n",
        "- Failing: Below 65\n",
        "\n",
        "#Given the list of grades in grades_list, print the grade received by the last student in this list. So if we have\n",
        "\n",
        "    grade_list = [50, 90, 91, 88, 75]\n",
        "\n",
        "#we want to print the grade received by the student who received a 75. In this case it would be a C."
      ]
    },
    {
      "cell_type": "markdown",
      "metadata": {
        "id": "3x_L-4Wq0W8X",
        "colab_type": "text"
      },
      "source": [
        "# Create a list L of arbitrary length. Get the median.\n",
        "\n",
        "Examples: \n",
        "\n",
        "1.   [7, 1 , 5], return 5\n",
        "2.   [8,2, 0, 1] return (1+2)/2\n",
        "\n",
        "Hint: User L.sort()     \n"
      ]
    },
    {
      "cell_type": "code",
      "metadata": {
        "id": "rdOOHURh0Zjr",
        "colab_type": "code",
        "colab": {}
      },
      "source": [
        "def median():\n",
        "  "
      ],
      "execution_count": null,
      "outputs": []
    },
    {
      "cell_type": "markdown",
      "metadata": {
        "id": "aVM89-zG0jTW",
        "colab_type": "text"
      },
      "source": [
        "# Generate the first N numbers of the Fibonacci sequence where \n",
        "\n",
        "$a_0 = 1$\n",
        "\n",
        "$a_1=1$\n",
        "\n",
        "$a_n = a_{n-1} + a_{n-2}$\n",
        "\n",
        "# function : fibonacii(n) : returns $n^{th}$ fibonacii number. "
      ]
    },
    {
      "cell_type": "code",
      "metadata": {
        "id": "rEUDOik307G4",
        "colab_type": "code",
        "colab": {}
      },
      "source": [
        "def fibonacii_1(n):\n",
        "  f = [1]*n\n",
        "  for i in range(2,n):\n",
        "    f[i] = f[i-1] + f[i-2]\n",
        "  return f[n-1]\n",
        "\n"
      ],
      "execution_count": null,
      "outputs": []
    },
    {
      "cell_type": "code",
      "metadata": {
        "id": "r-YJRWmpl2r9",
        "colab_type": "code",
        "colab": {
          "base_uri": "https://localhost:8080/",
          "height": 34
        },
        "outputId": "7563fd03-0376-4e62-a95f-f46d1edd99f3"
      },
      "source": [
        " fibonacii(100)"
      ],
      "execution_count": null,
      "outputs": [
        {
          "output_type": "execute_result",
          "data": {
            "text/plain": [
              "354224848179261915075"
            ]
          },
          "metadata": {
            "tags": []
          },
          "execution_count": 15
        }
      ]
    },
    {
      "cell_type": "code",
      "metadata": {
        "id": "6YN6sxB6mT59",
        "colab_type": "code",
        "colab": {}
      },
      "source": [
        "## Recursion\n",
        "def fibonacii_2(n):\n",
        "  if n <= 2:\n",
        "    return 1\n",
        "  else:\n",
        "    f = fibonacii(n-1) + fibonacii(n-2)\n",
        "    return f"
      ],
      "execution_count": null,
      "outputs": []
    },
    {
      "cell_type": "code",
      "metadata": {
        "id": "Rpdm8DyZnLn9",
        "colab_type": "code",
        "colab": {
          "base_uri": "https://localhost:8080/",
          "height": 34
        },
        "outputId": "9486195a-7cdc-4344-a419-5632d78fb5b6"
      },
      "source": [
        "%timeit fibonacii(10)"
      ],
      "execution_count": null,
      "outputs": [
        {
          "output_type": "stream",
          "text": [
            "1000000 loops, best of 3: 1.26 µs per loop\n"
          ],
          "name": "stdout"
        }
      ]
    },
    {
      "cell_type": "markdown",
      "metadata": {
        "id": "CVhPswCJ0-Ou",
        "colab_type": "text"
      },
      "source": [
        "# Write a function to check if the x is perfect square.  If it is, print \"x is a perfect square\".  If not print \"x is not a perfect square\"."
      ]
    },
    {
      "cell_type": "code",
      "metadata": {
        "id": "PHKe_gAl1UA5",
        "colab_type": "code",
        "colab": {}
      },
      "source": [
        ""
      ],
      "execution_count": null,
      "outputs": []
    },
    {
      "cell_type": "markdown",
      "metadata": {
        "id": "CG7IulDH1Uyx",
        "colab_type": "text"
      },
      "source": [
        ""
      ]
    }
  ]
}